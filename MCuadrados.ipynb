{
  "nbformat": 4,
  "nbformat_minor": 0,
  "metadata": {
    "colab": {
      "provenance": [],
      "authorship_tag": "ABX9TyP3DVow3VyTpwUcKRYKZWR+",
      "include_colab_link": true
    },
    "kernelspec": {
      "name": "python3",
      "display_name": "Python 3"
    },
    "language_info": {
      "name": "python"
    },
    "widgets": {
      "application/vnd.jupyter.widget-state+json": {
        "84002931b43b419ebf051178cd5bef0e": {
          "model_module": "@jupyter-widgets/controls",
          "model_name": "VBoxModel",
          "model_module_version": "1.5.0",
          "state": {
            "_dom_classes": [
              "widget-interact"
            ],
            "_model_module": "@jupyter-widgets/controls",
            "_model_module_version": "1.5.0",
            "_model_name": "VBoxModel",
            "_view_count": null,
            "_view_module": "@jupyter-widgets/controls",
            "_view_module_version": "1.5.0",
            "_view_name": "VBoxView",
            "box_style": "",
            "children": [
              "IPY_MODEL_e6960807a591483f9ce6693102396a22",
              "IPY_MODEL_fd87c4ef04394dac81440af114f3f11f",
              "IPY_MODEL_ac3871a26aba41bf804c9f191bdad168"
            ],
            "layout": "IPY_MODEL_6cc570e1ccad4473a463294940f0614c"
          }
        },
        "e6960807a591483f9ce6693102396a22": {
          "model_module": "@jupyter-widgets/controls",
          "model_name": "FloatSliderModel",
          "model_module_version": "1.5.0",
          "state": {
            "_dom_classes": [],
            "_model_module": "@jupyter-widgets/controls",
            "_model_module_version": "1.5.0",
            "_model_name": "FloatSliderModel",
            "_view_count": null,
            "_view_module": "@jupyter-widgets/controls",
            "_view_module_version": "1.5.0",
            "_view_name": "FloatSliderView",
            "continuous_update": true,
            "description": "p2_x",
            "description_tooltip": null,
            "disabled": false,
            "layout": "IPY_MODEL_4f21fc334b79454194d1df5e114d8c37",
            "max": 12.3,
            "min": 5.5,
            "orientation": "horizontal",
            "readout": true,
            "readout_format": ".2f",
            "step": 0.1,
            "style": "IPY_MODEL_71a7443d205e4d1da3324836da47fce5",
            "value": 8.5
          }
        },
        "fd87c4ef04394dac81440af114f3f11f": {
          "model_module": "@jupyter-widgets/controls",
          "model_name": "FloatSliderModel",
          "model_module_version": "1.5.0",
          "state": {
            "_dom_classes": [],
            "_model_module": "@jupyter-widgets/controls",
            "_model_module_version": "1.5.0",
            "_model_name": "FloatSliderModel",
            "_view_count": null,
            "_view_module": "@jupyter-widgets/controls",
            "_view_module_version": "1.5.0",
            "_view_name": "FloatSliderView",
            "continuous_update": true,
            "description": "p2_y",
            "description_tooltip": null,
            "disabled": false,
            "layout": "IPY_MODEL_ef718baff4434b06b389f21c770b5186",
            "max": 10,
            "min": -10,
            "orientation": "horizontal",
            "readout": true,
            "readout_format": ".2f",
            "step": 0.1,
            "style": "IPY_MODEL_19123ce91eba4634af57792cb8379390",
            "value": 3
          }
        },
        "ac3871a26aba41bf804c9f191bdad168": {
          "model_module": "@jupyter-widgets/output",
          "model_name": "OutputModel",
          "model_module_version": "1.0.0",
          "state": {
            "_dom_classes": [],
            "_model_module": "@jupyter-widgets/output",
            "_model_module_version": "1.0.0",
            "_model_name": "OutputModel",
            "_view_count": null,
            "_view_module": "@jupyter-widgets/output",
            "_view_module_version": "1.0.0",
            "_view_name": "OutputView",
            "layout": "IPY_MODEL_49b9caf54a1d436b9a5ac32f084a5196",
            "msg_id": "",
            "outputs": [
              {
                "output_type": "display_data",
                "data": {
                  "text/plain": "<Figure size 1000x600 with 1 Axes>",
                  "image/png": "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\n"
                },
                "metadata": {}
              }
            ]
          }
        },
        "6cc570e1ccad4473a463294940f0614c": {
          "model_module": "@jupyter-widgets/base",
          "model_name": "LayoutModel",
          "model_module_version": "1.2.0",
          "state": {
            "_model_module": "@jupyter-widgets/base",
            "_model_module_version": "1.2.0",
            "_model_name": "LayoutModel",
            "_view_count": null,
            "_view_module": "@jupyter-widgets/base",
            "_view_module_version": "1.2.0",
            "_view_name": "LayoutView",
            "align_content": null,
            "align_items": null,
            "align_self": null,
            "border": null,
            "bottom": null,
            "display": null,
            "flex": null,
            "flex_flow": null,
            "grid_area": null,
            "grid_auto_columns": null,
            "grid_auto_flow": null,
            "grid_auto_rows": null,
            "grid_column": null,
            "grid_gap": null,
            "grid_row": null,
            "grid_template_areas": null,
            "grid_template_columns": null,
            "grid_template_rows": null,
            "height": null,
            "justify_content": null,
            "justify_items": null,
            "left": null,
            "margin": null,
            "max_height": null,
            "max_width": null,
            "min_height": null,
            "min_width": null,
            "object_fit": null,
            "object_position": null,
            "order": null,
            "overflow": null,
            "overflow_x": null,
            "overflow_y": null,
            "padding": null,
            "right": null,
            "top": null,
            "visibility": null,
            "width": null
          }
        },
        "4f21fc334b79454194d1df5e114d8c37": {
          "model_module": "@jupyter-widgets/base",
          "model_name": "LayoutModel",
          "model_module_version": "1.2.0",
          "state": {
            "_model_module": "@jupyter-widgets/base",
            "_model_module_version": "1.2.0",
            "_model_name": "LayoutModel",
            "_view_count": null,
            "_view_module": "@jupyter-widgets/base",
            "_view_module_version": "1.2.0",
            "_view_name": "LayoutView",
            "align_content": null,
            "align_items": null,
            "align_self": null,
            "border": null,
            "bottom": null,
            "display": null,
            "flex": null,
            "flex_flow": null,
            "grid_area": null,
            "grid_auto_columns": null,
            "grid_auto_flow": null,
            "grid_auto_rows": null,
            "grid_column": null,
            "grid_gap": null,
            "grid_row": null,
            "grid_template_areas": null,
            "grid_template_columns": null,
            "grid_template_rows": null,
            "height": null,
            "justify_content": null,
            "justify_items": null,
            "left": null,
            "margin": null,
            "max_height": null,
            "max_width": null,
            "min_height": null,
            "min_width": null,
            "object_fit": null,
            "object_position": null,
            "order": null,
            "overflow": null,
            "overflow_x": null,
            "overflow_y": null,
            "padding": null,
            "right": null,
            "top": null,
            "visibility": null,
            "width": null
          }
        },
        "71a7443d205e4d1da3324836da47fce5": {
          "model_module": "@jupyter-widgets/controls",
          "model_name": "SliderStyleModel",
          "model_module_version": "1.5.0",
          "state": {
            "_model_module": "@jupyter-widgets/controls",
            "_model_module_version": "1.5.0",
            "_model_name": "SliderStyleModel",
            "_view_count": null,
            "_view_module": "@jupyter-widgets/base",
            "_view_module_version": "1.2.0",
            "_view_name": "StyleView",
            "description_width": "",
            "handle_color": null
          }
        },
        "ef718baff4434b06b389f21c770b5186": {
          "model_module": "@jupyter-widgets/base",
          "model_name": "LayoutModel",
          "model_module_version": "1.2.0",
          "state": {
            "_model_module": "@jupyter-widgets/base",
            "_model_module_version": "1.2.0",
            "_model_name": "LayoutModel",
            "_view_count": null,
            "_view_module": "@jupyter-widgets/base",
            "_view_module_version": "1.2.0",
            "_view_name": "LayoutView",
            "align_content": null,
            "align_items": null,
            "align_self": null,
            "border": null,
            "bottom": null,
            "display": null,
            "flex": null,
            "flex_flow": null,
            "grid_area": null,
            "grid_auto_columns": null,
            "grid_auto_flow": null,
            "grid_auto_rows": null,
            "grid_column": null,
            "grid_gap": null,
            "grid_row": null,
            "grid_template_areas": null,
            "grid_template_columns": null,
            "grid_template_rows": null,
            "height": null,
            "justify_content": null,
            "justify_items": null,
            "left": null,
            "margin": null,
            "max_height": null,
            "max_width": null,
            "min_height": null,
            "min_width": null,
            "object_fit": null,
            "object_position": null,
            "order": null,
            "overflow": null,
            "overflow_x": null,
            "overflow_y": null,
            "padding": null,
            "right": null,
            "top": null,
            "visibility": null,
            "width": null
          }
        },
        "19123ce91eba4634af57792cb8379390": {
          "model_module": "@jupyter-widgets/controls",
          "model_name": "SliderStyleModel",
          "model_module_version": "1.5.0",
          "state": {
            "_model_module": "@jupyter-widgets/controls",
            "_model_module_version": "1.5.0",
            "_model_name": "SliderStyleModel",
            "_view_count": null,
            "_view_module": "@jupyter-widgets/base",
            "_view_module_version": "1.2.0",
            "_view_name": "StyleView",
            "description_width": "",
            "handle_color": null
          }
        },
        "49b9caf54a1d436b9a5ac32f084a5196": {
          "model_module": "@jupyter-widgets/base",
          "model_name": "LayoutModel",
          "model_module_version": "1.2.0",
          "state": {
            "_model_module": "@jupyter-widgets/base",
            "_model_module_version": "1.2.0",
            "_model_name": "LayoutModel",
            "_view_count": null,
            "_view_module": "@jupyter-widgets/base",
            "_view_module_version": "1.2.0",
            "_view_name": "LayoutView",
            "align_content": null,
            "align_items": null,
            "align_self": null,
            "border": null,
            "bottom": null,
            "display": null,
            "flex": null,
            "flex_flow": null,
            "grid_area": null,
            "grid_auto_columns": null,
            "grid_auto_flow": null,
            "grid_auto_rows": null,
            "grid_column": null,
            "grid_gap": null,
            "grid_row": null,
            "grid_template_areas": null,
            "grid_template_columns": null,
            "grid_template_rows": null,
            "height": null,
            "justify_content": null,
            "justify_items": null,
            "left": null,
            "margin": null,
            "max_height": null,
            "max_width": null,
            "min_height": null,
            "min_width": null,
            "object_fit": null,
            "object_position": null,
            "order": null,
            "overflow": null,
            "overflow_x": null,
            "overflow_y": null,
            "padding": null,
            "right": null,
            "top": null,
            "visibility": null,
            "width": null
          }
        }
      }
    }
  },
  "cells": [
    {
      "cell_type": "markdown",
      "metadata": {
        "id": "view-in-github",
        "colab_type": "text"
      },
      "source": [
        "<a href=\"https://colab.research.google.com/github/DavidEgas2004/MCuadrados-Interactivo/blob/main/MCuadrados.ipynb\" target=\"_parent\"><img src=\"https://colab.research.google.com/assets/colab-badge.svg\" alt=\"Open In Colab\"/></a>"
      ]
    },
    {
      "cell_type": "markdown",
      "source": [
        "## Minimos Cuadrados Interactivo\n",
        "\n",
        "Nombre: David Egas"
      ],
      "metadata": {
        "id": "ZSRFqyoUfCoD"
      }
    },
    {
      "cell_type": "code",
      "execution_count": 3,
      "metadata": {
        "id": "zkw_YhXCXi1-"
      },
      "outputs": [],
      "source": [
        "p1 = (5.4, 3.2)\n",
        "p2_i = (9.5, 0.7)\n",
        "p3 = (12.3, -3.6)"
      ]
    },
    {
      "cell_type": "code",
      "source": [
        "from ipywidgets import interact\n",
        "import numpy as np\n",
        "import matplotlib.pyplot as plt\n",
        "\n",
        "def update_plot(p2_x, p2_y):\n",
        "    x_coords = [p1[0], p2_x, p3[0]]\n",
        "    y_coords = [p1[1], p2_y, p3[1]]\n",
        "\n",
        "    plt.figure(figsize=(10, 6))\n",
        "    plt.scatter(x_coords, y_coords, color=\"red\")\n",
        "\n",
        "    ##Calcular m y b\n",
        "    resultado =np.polyfit (x_coords, y_coords, 1) # --> Se ponen los\n",
        "    #valores de las coordenadas junto al grado del polinomio\n",
        "    #Ajusta la linea recta en base a los puntos\n",
        "    #np.polyfit --> Devuelve un arreglo con el valor de m y b para la recta\n",
        "    m=resultado[0] # --> Se guarda en m el valor de la pendiente\n",
        "    b=resultado[1] # --> Se uarda el valor de b para la pendiemnte\n",
        "\n",
        "    ##Dibujar la linea\n",
        "    x_line = [min(x_coords), max(x_coords)]\n",
        "    y_line = [m * x + b for x in x_line] #--> se pasan los valores del ajuste\n",
        "    plt.plot(x_line, y_line, color=\"blue\")\n",
        "\n",
        "    plt.xlabel(\"X\")\n",
        "    plt.ylabel(\"Y\")\n",
        "    plt.title(\"Points and Line Plot\")\n",
        "    plt.show()\n",
        "\n",
        "\n",
        "_ = interact(update_plot, p2_x=(5.5, 12.3, 0.1), p2_y=(-10.0, 10.0, 0.1))"
      ],
      "metadata": {
        "colab": {
          "base_uri": "https://localhost:8080/",
          "height": 628,
          "referenced_widgets": [
            "84002931b43b419ebf051178cd5bef0e",
            "e6960807a591483f9ce6693102396a22",
            "fd87c4ef04394dac81440af114f3f11f",
            "ac3871a26aba41bf804c9f191bdad168",
            "6cc570e1ccad4473a463294940f0614c",
            "4f21fc334b79454194d1df5e114d8c37",
            "71a7443d205e4d1da3324836da47fce5",
            "ef718baff4434b06b389f21c770b5186",
            "19123ce91eba4634af57792cb8379390",
            "49b9caf54a1d436b9a5ac32f084a5196"
          ]
        },
        "id": "oaoGAe4JXmwr",
        "outputId": "eaf116ee-b8a1-4f1c-9516-7c2d8752fa56"
      },
      "execution_count": 5,
      "outputs": [
        {
          "output_type": "display_data",
          "data": {
            "text/plain": [
              "interactive(children=(FloatSlider(value=8.9, description='p2_x', max=12.3, min=5.5), FloatSlider(value=0.0, de…"
            ],
            "application/vnd.jupyter.widget-view+json": {
              "version_major": 2,
              "version_minor": 0,
              "model_id": "84002931b43b419ebf051178cd5bef0e"
            }
          },
          "metadata": {}
        }
      ]
    }
  ]
}